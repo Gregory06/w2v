{
 "cells": [
  {
   "cell_type": "markdown",
   "metadata": {},
   "source": [
    "# Distributed Word Representation"
   ]
  },
  {
   "cell_type": "code",
   "execution_count": 21,
   "metadata": {},
   "outputs": [],
   "source": [
    "import numpy as np\n",
    "from collections import Counter\n",
    "import os\n",
    "import string\n",
    "import re\n",
    "import itertools\n",
    "from operator import itemgetter \n",
    "import matplotlib.pyplot as plt\n",
    "from nltk.corpus import brown\n",
    "import sys\n",
    "import random\n",
    "import time"
   ]
  },
  {
   "cell_type": "code",
   "execution_count": 2,
   "metadata": {},
   "outputs": [],
   "source": [
    "path = './collection'"
   ]
  },
  {
   "cell_type": "code",
   "execution_count": 3,
   "metadata": {},
   "outputs": [],
   "source": [
    "def tokenize_doc(doc, min_size=2):\n",
    "    \"\"\"\n",
    "        doc: string\n",
    "\n",
    "        return: list of strings\n",
    "    \"\"\"\n",
    "\n",
    "    doc = doc.translate(str.maketrans(\"\", \"\", string.punctuation))\n",
    "    \n",
    "    tokens = []\n",
    "    \n",
    "    for token in doc.split():\n",
    "        if token in string.whitespace or token == '':\n",
    "            continue\n",
    "        if token != \" \".join(re.findall(\"[a-zA-Z]+\", token)):\n",
    "            continue\n",
    "        if len(token) < min_size:\n",
    "            continue\n",
    "        tokens.append(token.lower())\n",
    "\n",
    "    return tokens"
   ]
  },
  {
   "cell_type": "code",
   "execution_count": 4,
   "metadata": {},
   "outputs": [],
   "source": [
    "def collect(path):\n",
    "    \"\"\"\n",
    "        path: string, relative path to dir with text samples\n",
    "\n",
    "        return: list, tokenized documents\n",
    "    \"\"\"\n",
    "    \n",
    "    collection = []\n",
    "    files = [os.path.join(path, file) for file in os.listdir(path) if os.path.isfile(os.path.join(path, file))]\n",
    "    \n",
    "    for file in files[1:]:\n",
    "        doc = open(file, \"r\")\n",
    "        collection.append(tokenize_doc(doc.read()))\n",
    "        \n",
    "    return collection"
   ]
  },
  {
   "cell_type": "code",
   "execution_count": 5,
   "metadata": {},
   "outputs": [],
   "source": [
    "def build_vocab(collection):\n",
    "    \"\"\"\n",
    "        collection: list, tokenized documents\n",
    "\n",
    "        return: dict str -> int\n",
    "    \"\"\"\n",
    "\n",
    "    docs = list(itertools.chain.from_iterable(collection))\n",
    "    docs.sort()\n",
    "    vocab = {}\n",
    "    index = 0\n",
    "    \n",
    "    for token in docs:\n",
    "        if token in vocab.keys(): continue\n",
    "        vocab[token] = index\n",
    "        index += 1\n",
    "    \n",
    "    return vocab"
   ]
  },
  {
   "cell_type": "code",
   "execution_count": 6,
   "metadata": {},
   "outputs": [],
   "source": [
    "def sigmoid(x):\n",
    "    \"\"\"\n",
    "        x : np.float\n",
    "        \n",
    "        return :  np.float, sigm(x)\n",
    "    \"\"\"\n",
    "    \n",
    "    return 1. / (1 + np.exp(-x))"
   ]
  },
  {
   "cell_type": "code",
   "execution_count": 7,
   "metadata": {},
   "outputs": [],
   "source": [
    "def objective(context, center, neg_sampling):\n",
    "    \"\"\"\"\n",
    "        context : np.array, array of words embeding in context\n",
    "        center : center word embeging\n",
    "        neg_sampling : np.array, array of words embedings sampled from unigram\n",
    "        \n",
    "        return : np.float, loss\n",
    "    \"\"\"\n",
    "    exp = 1e-5\n",
    "    \n",
    "    context_loss = 0\n",
    "    for context_embed in context: \n",
    "        context_loss += np.log(sigmoid(np.dot(context_embed, center))+exp)\n",
    "#         print(context_embed, center, np.dot(context_embed, center))\n",
    "    \n",
    "    neg_sampling_loss = 0\n",
    "    for neg_sampling_embed in neg_sampling: neg_sampling_loss += np.log(sigmoid(-np.dot(neg_sampling_embed, center))+exp)\n",
    "    \n",
    "    return - (context_loss + neg_sampling_loss)"
   ]
  },
  {
   "cell_type": "code",
   "execution_count": 8,
   "metadata": {},
   "outputs": [],
   "source": [
    "def objective_backward(context, center, neg_sampling):\n",
    "    \"\"\"\n",
    "        context : np.array, array of words embeding in context\n",
    "        center : center word embeging\"\n",
    "        neg_sampling : np.array, array of words embedings sampled from unigram\n",
    "        \n",
    "        return :  np.array, gradients with respect to each parameter \n",
    "    \"\"\"\n",
    "    exp = 1e-5\n",
    "    \n",
    "    context_grad = []\n",
    "    center_grad = np.zeros_like(center)\n",
    "    \n",
    "    for context_embed in context:\n",
    "        context_grad.append(center * (sigmoid(np.dot(context_embed, center)) - 1))\n",
    "        center_grad += context_embed * (sigmoid(np.dot(context_embed, center)) - 1)\n",
    "        \n",
    "    neg_sampling_grad = []\n",
    "    for neg_sampling_embed in neg_sampling:\n",
    "        neg_sampling_grad.append(center * sigmoid(np.dot(neg_sampling_embed, center)))\n",
    "        context_grad += neg_sampling_embed * sigmoid(np.dot(neg_sampling_embed, center))\n",
    "        \n",
    "    return np.array(context_grad), center_grad, np.array(neg_sampling_grad)"
   ]
  },
  {
   "cell_type": "code",
   "execution_count": 16,
   "metadata": {},
   "outputs": [],
   "source": [
    "def unigram_distribution(corpus, mapping, power=3/4):\n",
    "    \"\"\"\n",
    "        corpus : list, tokenized document\n",
    "        mapping : dict, str -> int\n",
    "        \n",
    "        return :  np.array, unigram distribution over vocab\n",
    "    \"\"\"\n",
    "    \n",
    "    counter = Counter()\n",
    "    words_quantity = len(corpus)\n",
    "    distribution = np.zeros(len(mapping.keys()))\n",
    "    \n",
    "    for token in corpus: counter[token] += 1\n",
    "    for token in counter.keys(): distribution[mapping[token]] = counter[token] ** power\n",
    "           \n",
    "    return np.array(distribution / np.sum(distribution))"
   ]
  },
  {
   "cell_type": "code",
   "execution_count": 10,
   "metadata": {},
   "outputs": [],
   "source": [
    "def generate_samples(distribution, num_samples):\n",
    "    \"\"\"\n",
    "        distribution :  np.array, unigram distribution over vocab\n",
    "        num_samples : int, number of samples to generate\n",
    "        \n",
    "        return : np.array, indexes of generated sampes (word in mapping)\n",
    "    \"\"\"\n",
    "    \n",
    "    vocab_len = len(distribution)\n",
    "    \n",
    "    return np.array([np.random.choice(np.arange(vocab_len), p=distribution) for _ in range(num_samples)])"
   ]
  },
  {
   "cell_type": "code",
   "execution_count": 11,
   "metadata": {},
   "outputs": [],
   "source": [
    "def get_sample(index, corpus, mapping, window_width, num_samples):\n",
    "    \"\"\"\n",
    "        index :  int, index of word under focus in corpus\n",
    "        corpus : list, tokenized document\n",
    "        mapping : dict, str -> int\n",
    "        window_width : int, number of words in context\n",
    "        num_samples : int, number of samples to generate\n",
    "        \n",
    "        \n",
    "        return : np.array, indexes of context\n",
    "                 int, index index of word under focus in mapping\n",
    "                 np.array, indexes of generated sampes (word in mapping)\n",
    "    \"\"\"\n",
    "    \n",
    "    max_index = len(corpus)-1\n",
    "    distribution = unigram_distribution(corpus, mapping)\n",
    "    \n",
    "    context_from, context_to = max(0, index - window_width), min(max_index, index + window_width+1)\n",
    "    context = corpus[context_from:index]\n",
    "    context.extend(corpus[index+1:context_to])\n",
    "    \n",
    "    context_indexes = np.array([mapping[context_word] for context_word in context])\n",
    "    center_index = mapping[corpus[index]]\n",
    "    neg_samples_indexes = generate_samples(distribution, num_samples)\n",
    "    \n",
    "    return context_indexes, center_index, neg_samples_indexes"
   ]
  },
  {
   "cell_type": "code",
   "execution_count": 12,
   "metadata": {},
   "outputs": [],
   "source": [
    "def init_params(vocab_len, embed_size):\n",
    "    \"\"\"\n",
    "        vocab_len : int, size of vocabulary \n",
    "        embed_size : int, word vector len\n",
    "    \n",
    "        return : list of np.array parameters\n",
    "    \"\"\"\n",
    "    \n",
    "    params_input = np.random.randn(vocab_len, embed_size) / embed_size\n",
    "    params_output = np.random.randn(vocab_len, embed_size) / embed_size\n",
    "    return [params_input, params_output]\n",
    "\n",
    "def update_weights(params, context_indexes, center_index, neg_samples_indexes, learning_rate, embed_size):\n",
    "    \"\"\"\n",
    "        params : np.array, weight matrix of word embedigs\n",
    "                params[0] : np.array, input\n",
    "                params[1] : np.array, output\n",
    "        context_indexes : np.array, indexes of context words in mapping\n",
    "        center_index : np.array, indexes of center word in mapping\n",
    "        neg_samples_indexes : np.array, indexes of sampled words in mapping\n",
    "        learning_rate : float\n",
    "        embed_size : int, word vector len\n",
    "        \n",
    "        return : float, value of loss function\n",
    "    \"\"\"\n",
    "    context, center, neg_samples = itemgetter(*context_indexes)(params[1]), params[0][center_index], itemgetter(*neg_samples_indexes)(params[1])\n",
    "#     print (np.array(context).shape, np.array(center).shape, np.array(neg_samples).shape)\n",
    "    context = np.array(context).reshape(-1, embed_size)\n",
    "    center = np.array(center)\n",
    "    neg_samples = np.array(neg_samples).reshape(-1, embed_size)\n",
    "    loss = objective(context, center, neg_samples)\n",
    "    context_grad, center_grad, neg_samples_grad = objective_backward(context, center, neg_samples)\n",
    "    \n",
    "    for index, grad in zip(context_indexes, context_grad):\n",
    "        params[1][index] -= learning_rate * grad\n",
    "        \n",
    "    params[0][center_index] -= learning_rate * center_grad\n",
    "    \n",
    "    for index, grad in zip(neg_samples_indexes, neg_samples_grad):\n",
    "        params[1][index] -= learning_rate * grad\n",
    "        \n",
    "    return loss"
   ]
  },
  {
   "cell_type": "code",
   "execution_count": 31,
   "metadata": {},
   "outputs": [],
   "source": [
    "def train(init_params, update_func, mapping, collection, learning_rate=1e-2, learning_rate_to=None, embed_size=10, num_epoch=1, window_width=3, num_samples=7, plot_loss=False):\n",
    "    \"\"\"\n",
    "        init_params : function to initialize params \n",
    "        update_func : function to update params\n",
    "        mapping : dict, str -> int \n",
    "        collection : list of tokenized documents \n",
    "        learning_rate : float\n",
    "        embed_size : int, size of word vector\n",
    "        num_epoch : int\n",
    "        window_width : int, number of word both from left and right in context \n",
    "        num_samples : int, number of word to generate from distribution\n",
    "        plot_loss : bool\n",
    "        \n",
    "        return : list, collected after every corpus losses \n",
    "    \"\"\"\n",
    "    if learning_rate_to is not None:\n",
    "        assert learning_rate > learning_rate_to, \"Enter correct bounds for lr\"\n",
    "    \n",
    "    losses = []\n",
    "    vocab_len = len(mapping.keys())\n",
    "    params = init_params(vocab_len, embed_size)\n",
    "#     print(len(params))\n",
    "    iter_count = len(list(itertools.chain.from_iterable(collection))) * num_epoch\n",
    "    counter = 0\n",
    "    for epoch in range(num_epoch):\n",
    "        if learning_rate_to is not None:\n",
    "            learning_rate -= (learning_rate - learning_rate_to) / num_epoch\n",
    "        for corpus in collection:\n",
    "            loss = 0 \n",
    "            sys.stdout.write(\"progres: %d%%   \\r\" % (counter / iter_count * 100))\n",
    "            sys.stdout.flush()\n",
    "            for index, _ in enumerate(corpus):\n",
    "                counter += 1\n",
    "                context_indexes, center_index, neg_samples_indexes = get_sample(index, corpus, mapping, window_width, num_samples)\n",
    "#                 print(context, center)\n",
    "#                 print(context_indexes, center_index, neg_samples_indexes)\n",
    "                loss += update_func(params, context_indexes, center_index, neg_samples_indexes, learning_rate, embed_size=embed_size)\n",
    "#                 print(loss)\n",
    "#             print(len(loss))\n",
    "            losses.append(loss/len(corpus))\n",
    "                \n",
    "    if plot_loss:\n",
    "        plt.plot(losses)\n",
    "        plt.title(\"Loss\")\n",
    "        plt.xlabel(\"Iteration\")\n",
    "        plt.show()\n",
    "        \n",
    "    return losses, params"
   ]
  },
  {
   "cell_type": "code",
   "execution_count": 119,
   "metadata": {},
   "outputs": [],
   "source": [
    "collection = collect(path)\n",
    "mapping = build_vocab(collection)"
   ]
  },
  {
   "cell_type": "code",
   "execution_count": 120,
   "metadata": {},
   "outputs": [
    {
     "name": "stdout",
     "output_type": "stream",
     "text": [
      "progres: 99%   \r"
     ]
    },
    {
     "data": {
      "image/png": "[encoded data removed]",
      "text/plain": [
       "<Figure size 432x288 with 1 Axes>"
      ]
     },
     "metadata": {
      "needs_background": "light"
     },
     "output_type": "display_data"
    },
    {
     "name": "stdout",
     "output_type": "stream",
     "text": [
      "Execution time: 6.97 minuts\n"
     ]
    }
   ],
   "source": [
    "EMBED_SIZE = 30\n",
    "start_time = time.time()\n",
    "losses, params = train(init_params, update_weights, mapping, collection, num_epoch=60, embed_size=EMBED_SIZE, plot_loss=True, learning_rate=7e-2, learning_rate_to=1e-3, window_width=4, num_samples=5)\n",
    "print(\"Execution time: {0:.2f} minuts\".format((time.time() - start_time) / 60))\n"
   ]
  },
  {
   "cell_type": "code",
   "execution_count": 130,
   "metadata": {},
   "outputs": [],
   "source": [
    "EOS = \"eos\"\n",
    "EOS_embed = np.ones(2*len(params[0][0])).reshape(2,1,-1)\n",
    "\n",
    "params = np.append(params, EOS_embed, axis=1)\n",
    "mapping[EOS] = len(mapping.keys())"
   ]
  },
  {
   "cell_type": "code",
   "execution_count": 39,
   "metadata": {},
   "outputs": [],
   "source": [
    "def softmax(z):\n",
    "    \"\"\"\n",
    "        z: np.array\n",
    "\n",
    "        return np.array, sm(z)\n",
    "    \"\"\"\n",
    "\n",
    "    eps = 10e-10\n",
    "    z = z - np.max(z)\n",
    "    \n",
    "    return np.exp(z) / (np.sum(np.exp(z)) + eps) "
   ]
  },
  {
   "cell_type": "code",
   "execution_count": 40,
   "metadata": {},
   "outputs": [],
   "source": [
    "def predict(params, word, mapping, context_size=5, mode=\"context\"):\n",
    "    \"\"\"\n",
    "    \"\"\"\n",
    "    assert mode in [\"context\", \"center\"], \"No such mode\"\n",
    "    param_num = 1\n",
    "    if mode == \"center\":\n",
    "        param_num = 0\n",
    "    assert word in mapping.keys(), \"No such word in the vocabulary\"\n",
    "    input_embeding = params[0][mapping[word]]\n",
    "    input_embeding.reshape(input_embeding.shape[0], -1)\n",
    "    prediction = softmax(np.dot(params[param_num], input_embeding) / (np.sum(np.square(params[param_num]), axis=1)*np.sum(np.square(input_embeding))))\n",
    "    indexes = prediction.argsort()[-context_size-1:][::-1]\n",
    "    if mapping[word] in indexes:\n",
    "        indexes = np.delete(indexes, np.where(indexes == mapping[word])[0][0])\n",
    "    else:\n",
    "        indexes = np.delete(indexes, -1)\n",
    "    \n",
    "    return indexes\n",
    "    "
   ]
  },
  {
   "cell_type": "code",
   "execution_count": null,
   "metadata": {},
   "outputs": [],
   "source": []
  },
  {
   "cell_type": "code",
   "execution_count": 145,
   "metadata": {},
   "outputs": [
    {
     "name": "stdout",
     "output_type": "stream",
     "text": [
      "Context for 'europeans' is:\n",
      "1 : varangians\n",
      "2 : continent\n",
      "3 : reductions\n",
      "4 : byzantium\n",
      "5 : multifaceted\n"
     ]
    }
   ],
   "source": [
    "word = list(mapping.keys())[random.randint(0, len(mapping))]\n",
    "print(\"Context for '{}' is:\".format(word))\n",
    "predictions = predict(params, word, mapping)\n",
    "for i, prediction in enumerate(predictions):\n",
    "    print(\"{} : {}\".format(i+1, list(mapping.keys())[prediction]))"
   ]
  },
  {
   "cell_type": "code",
   "execution_count": 147,
   "metadata": {
    "scrolled": true
   },
   "outputs": [
    {
     "name": "stdout",
     "output_type": "stream",
     "text": [
      "Close to 'inventors' is:\n",
      "1 : engineers\n",
      "2 : needed\n",
      "3 : acquired\n",
      "4 : continuously\n",
      "5 : redefined\n"
     ]
    }
   ],
   "source": [
    "word = list(mapping.keys())[random.randint(0, len(mapping))]\n",
    "print(\"Close to '{}' is:\".format(word))\n",
    "predictions = predict(params, word, mapping, mode=\"center\")\n",
    "for i, prediction in enumerate(predictions):\n",
    "    print(\"{} : {}\".format(i+1, list(mapping.keys())[prediction]))"
   ]
  },
  {
   "cell_type": "code",
   "execution_count": 102,
   "metadata": {},
   "outputs": [],
   "source": [
    "def closest_word(embed, params, size=5):\n",
    "    embed.reshape(embed.shape[0], -1)\n",
    "    prediction = softmax(np.dot(params[0], embed) / (np.sum(np.square(params[0]), axis=1)*np.sum(np.square(embed))))\n",
    "    indexes = prediction.argsort()[-size:][::-1]\n",
    "    \n",
    "    return indexes"
   ]
  },
  {
   "cell_type": "code",
   "execution_count": null,
   "metadata": {},
   "outputs": [],
   "source": []
  },
  {
   "cell_type": "code",
   "execution_count": null,
   "metadata": {},
   "outputs": [],
   "source": []
  },
  {
   "cell_type": "code",
   "execution_count": null,
   "metadata": {},
   "outputs": [],
   "source": []
  },
  {
   "cell_type": "code",
   "execution_count": 81,
   "metadata": {},
   "outputs": [],
   "source": [
    "import torch\n",
    "import torch.nn as nn\n",
    "import torch.nn.functional as F\n",
    "import torch.optim as optim"
   ]
  },
  {
   "cell_type": "code",
   "execution_count": 82,
   "metadata": {},
   "outputs": [],
   "source": [
    "def prepare_data(path, min_size=3):\n",
    "    collection = []\n",
    "    files = [os.path.join(path, file) for file in os.listdir(path) if os.path.isfile(os.path.join(path, file))]\n",
    "    \n",
    "    for file in files[1:]:\n",
    "        doc = open(file, \"r\").read()\n",
    "        sentences = doc.split('.')\n",
    "        for sentence in sentences:\n",
    "            tokenized_sentence = tokenize_doc(sentence)\n",
    "            if len(tokenized_sentence) < min_size:\n",
    "                continue\n",
    "            tokenized_sentence.append(EOS)\n",
    "            tokenized_sentence.append(EOS)\n",
    "            collection.append(tokenized_sentence)\n",
    "        \n",
    "    return collection"
   ]
  },
  {
   "cell_type": "code",
   "execution_count": 83,
   "metadata": {},
   "outputs": [],
   "source": [
    "def sentens2embedings(sentence, params, mapping):\n",
    "    embeds = []\n",
    "    for word in sentence:\n",
    "        embeds.append(params[0][mapping[word]])\n",
    "    embeds = torch.tensor(embeds)\n",
    "    \n",
    "    return embeds.float()"
   ]
  },
  {
   "cell_type": "code",
   "execution_count": 84,
   "metadata": {},
   "outputs": [],
   "source": [
    "class NextWordsPredictor(nn.Module):\n",
    "\n",
    "    def __init__(self, embedding_dim, hidden_dim):\n",
    "        super(NextWordsPredictor, self).__init__()\n",
    "        self.hidden_dim = hidden_dim\n",
    "\n",
    "        self.word_embeddings = sentens2embedings\n",
    "        \n",
    "        self.lstm = nn.LSTM(embedding_dim, hidden_dim)\n",
    "        self.hidden2embed = nn.Linear(hidden_dim, embedding_dim)\n",
    "\n",
    "    def forward(self, sentence, params, mapping):\n",
    "        embeds = self.word_embeddings(sentence, params, mapping)\n",
    "        lstm_out, _ = self.lstm(embeds.view(len(sentence), 1, -1))\n",
    "        next_embed = self.hidden2embed(lstm_out.view(len(sentence), -1))\n",
    "        return next_embed"
   ]
  },
  {
   "cell_type": "code",
   "execution_count": 128,
   "metadata": {},
   "outputs": [
    {
     "data": {
      "image/png": "[encoded data removed]",
      "text/plain": [
       "<Figure size 432x288 with 1 Axes>"
      ]
     },
     "metadata": {
      "needs_background": "light"
     },
     "output_type": "display_data"
    }
   ],
   "source": [
    "HIDDEN_SIZE = 30\n",
    "\n",
    "model = NextWordsPredictor(EMBED_SIZE, HIDDEN_SIZE)\n",
    "loss_function = nn.MSELoss()\n",
    "optimizer = optim.SGD(model.parameters(), lr=0.1)\n",
    "\n",
    "inputs = prepare_data(path)\n",
    "# print(inputs)\n",
    "losses = []\n",
    "for epoch in range(100):  \n",
    "    epoch_loss = 0\n",
    "    for sentence in inputs:\n",
    "        checker = False\n",
    "        \n",
    "        for word in sentence:\n",
    "            if word not in list(mapping.keys()): \n",
    "                checker = True\n",
    "#                 print(word)\n",
    "        if checker: continue\n",
    "\n",
    "        model.zero_grad()\n",
    "\n",
    "        sentence_in = sentence[:-1]\n",
    "        targets = sentens2embedings(sentence[1:], params, mapping)\n",
    "        \n",
    "        prediction = model(sentence_in, params, mapping)\n",
    "\n",
    "        loss = loss_function(prediction, targets)\n",
    "        epoch_loss += loss\n",
    "        loss.backward()\n",
    "        optimizer.step()\n",
    "    losses.append(epoch_loss / len(inputs))\n",
    "\n",
    "\n",
    "plt.plot(losses)\n",
    "plt.title(\"Loss\")\n",
    "plt.xlabel(\"Epoch\")\n",
    "plt.show()\n"
   ]
  },
  {
   "cell_type": "code",
   "execution_count": 132,
   "metadata": {},
   "outputs": [],
   "source": [
    "def closest_word(embed, params, prev):\n",
    "    embed = embed.detach().numpy()\n",
    "    embed.reshape(embed.shape[0], -1)\n",
    "    prediction = softmax(np.dot(params[0], embed) / (np.sum(np.square(params[0]), axis=1)*np.sum(np.square(embed))))\n",
    "    indexes = prediction.argsort()[-6:][::-1]\n",
    "    if prev in indexes:\n",
    "        indexes = np.delete(indexes, np.where(indexes == prev)[0][0])\n",
    "    else:\n",
    "        indexes = np.delete(indexes, -1)\n",
    "    \n",
    "    return indexes[random.randint(0, 4)]"
   ]
  },
  {
   "cell_type": "code",
   "execution_count": 133,
   "metadata": {},
   "outputs": [],
   "source": [
    "def contunue_sentences(begining, params, mapping, max_length=30):\n",
    "    words = []\n",
    "    embed = model(begining, params, mapping)[-1]\n",
    "    word = list(mapping.keys())[closest_word(embed, params, -1)]\n",
    "    words.append(word)\n",
    "    for _ in range(max_length-1):\n",
    "        embed = model([word], params, mapping)[-1]\n",
    "        word = list(mapping.keys())[closest_word(embed, params, mapping[words[-1]])]\n",
    "        if word == EOS:\n",
    "            break\n",
    "        words.append(word)\n",
    "        \n",
    "    return words"
   ]
  },
  {
   "cell_type": "code",
   "execution_count": 148,
   "metadata": {},
   "outputs": [
    {
     "name": "stdout",
     "output_type": "stream",
     "text": [
      "housing wage confucius abolitionist rendered example hosts foreign ninth embassies platos aristotles despite income despite postwar tr church tr agglomeration per education nazi tr lake broader immigration fourth airport postwar do\n"
     ]
    }
   ],
   "source": [
    "sentence = [list(mapping.keys())[random.randint(0, len(mapping))]]\n",
    "sentence.extend(contunue_sentences(sentence, params, mapping))\n",
    "print(\" \".join(sentence))"
   ]
  },
  {
   "cell_type": "code",
   "execution_count": null,
   "metadata": {},
   "outputs": [],
   "source": []
  },
  {
   "cell_type": "code",
   "execution_count": null,
   "metadata": {},
   "outputs": [],
   "source": []
  }
 ],
 "metadata": {
  "kernelspec": {
   "display_name": "Python 3",
   "language": "python",
   "name": "python3"
  },
  "language_info": {
   "codemirror_mode": {
    "name": "ipython",
    "version": 3
   },
   "file_extension": ".py",
   "mimetype": "text/x-python",
   "name": "python",
   "nbconvert_exporter": "python",
   "pygments_lexer": "ipython3",
   "version": "3.7.1"
  }
 },
 "nbformat": 4,
 "nbformat_minor": 2
}
